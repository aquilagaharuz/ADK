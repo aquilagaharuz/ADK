{
 "cells": [
  {
   "cell_type": "code",
   "execution_count": null,
   "metadata": {},
   "outputs": [],
   "source": [
    "import numpy as np\n",
    "import pandas as pd\n",
    "import scipy.stats as stats\n",
    "from scipy.stats import chi2_contingency\n",
    "from statsmodels.stats.contingency_tables import Table2x2"
   ]
  },
  {
   "cell_type": "code",
   "execution_count": null,
   "metadata": {},
   "outputs": [
    {
     "data": {
      "text/html": [
       "<div>\n",
       "<style scoped>\n",
       "    .dataframe tbody tr th:only-of-type {\n",
       "        vertical-align: middle;\n",
       "    }\n",
       "\n",
       "    .dataframe tbody tr th {\n",
       "        vertical-align: top;\n",
       "    }\n",
       "\n",
       "    .dataframe thead th {\n",
       "        text-align: right;\n",
       "    }\n",
       "</style>\n",
       "<table border=\"1\" class=\"dataframe\">\n",
       "  <thead>\n",
       "    <tr style=\"text-align: right;\">\n",
       "      <th></th>\n",
       "      <th>Combination</th>\n",
       "      <th>Non_combination</th>\n",
       "    </tr>\n",
       "  </thead>\n",
       "  <tbody>\n",
       "    <tr>\n",
       "      <th>Daily</th>\n",
       "      <td>770</td>\n",
       "      <td>2290</td>\n",
       "    </tr>\n",
       "    <tr>\n",
       "      <th>Non_daily</th>\n",
       "      <td>2898</td>\n",
       "      <td>9042</td>\n",
       "    </tr>\n",
       "  </tbody>\n",
       "</table>\n",
       "</div>"
      ],
      "text/plain": [
       "           Combination  Non_combination\n",
       "Daily              770             2290\n",
       "Non_daily         2898             9042"
      ]
     },
     "execution_count": 45,
     "metadata": {},
     "output_type": "execute_result"
    }
   ],
   "source": [
    "data1 = np.array([[770, 2290],\n",
    "                [2898, 9042]])\n",
    "\n",
    "df1 = pd.DataFrame(data1,\n",
    "                   columns=[\"Combination\", \"Non_combination\"],\n",
    "                   index=[\"Daily\", \"Non_daily\"])\n",
    "df1"
   ]
  },
  {
   "cell_type": "code",
   "execution_count": 47,
   "metadata": {},
   "outputs": [
    {
     "name": "stdout",
     "output_type": "stream",
     "text": [
      "Odds Ratio: 1.0491108157711537\n"
     ]
    }
   ],
   "source": [
    "odds_ratio = Table2x2(data1).oddsratio\n",
    "odds_ratio_ci = Table2x2(data1).oddsratio_confint()\n",
    "print(f\"Odds Ratio: {odds_ratio}\")"
   ]
  },
  {
   "cell_type": "code",
   "execution_count": 46,
   "metadata": {},
   "outputs": [
    {
     "name": "stdout",
     "output_type": "stream",
     "text": [
      "Relative Risk: 1.0367528653973666\n"
     ]
    }
   ],
   "source": [
    "risk_exposed = data1[0, 0] / (data1[0, 0] + data1[0, 1])\n",
    "risk_unexposed = data1[1, 0] / (data1[1, 0] + data1[1, 1])\n",
    "relative_risk = risk_exposed / risk_unexposed\n",
    "print(f\"Relative Risk: {relative_risk}\")"
   ]
  },
  {
   "cell_type": "code",
   "execution_count": 41,
   "metadata": {},
   "outputs": [
    {
     "data": {
      "text/html": [
       "<div>\n",
       "<style scoped>\n",
       "    .dataframe tbody tr th:only-of-type {\n",
       "        vertical-align: middle;\n",
       "    }\n",
       "\n",
       "    .dataframe tbody tr th {\n",
       "        vertical-align: top;\n",
       "    }\n",
       "\n",
       "    .dataframe thead th {\n",
       "        text-align: right;\n",
       "    }\n",
       "</style>\n",
       "<table border=\"1\" class=\"dataframe\">\n",
       "  <thead>\n",
       "    <tr style=\"text-align: right;\">\n",
       "      <th></th>\n",
       "      <th>Combination</th>\n",
       "      <th>Dry</th>\n",
       "      <th>Normal</th>\n",
       "      <th>Oily</th>\n",
       "      <th>Sensitive</th>\n",
       "    </tr>\n",
       "  </thead>\n",
       "  <tbody>\n",
       "    <tr>\n",
       "      <th>Daily</th>\n",
       "      <td>770</td>\n",
       "      <td>753</td>\n",
       "      <td>726</td>\n",
       "      <td>685</td>\n",
       "      <td>734</td>\n",
       "    </tr>\n",
       "    <tr>\n",
       "      <th>Monthly</th>\n",
       "      <td>774</td>\n",
       "      <td>735</td>\n",
       "      <td>772</td>\n",
       "      <td>778</td>\n",
       "      <td>722</td>\n",
       "    </tr>\n",
       "    <tr>\n",
       "      <th>Occasional</th>\n",
       "      <td>773</td>\n",
       "      <td>756</td>\n",
       "      <td>753</td>\n",
       "      <td>744</td>\n",
       "      <td>768</td>\n",
       "    </tr>\n",
       "    <tr>\n",
       "      <th>Weekly</th>\n",
       "      <td>743</td>\n",
       "      <td>721</td>\n",
       "      <td>740</td>\n",
       "      <td>802</td>\n",
       "      <td>751</td>\n",
       "    </tr>\n",
       "  </tbody>\n",
       "</table>\n",
       "</div>"
      ],
      "text/plain": [
       "            Combination  Dry  Normal  Oily  Sensitive\n",
       "Daily               770  753     726   685        734\n",
       "Monthly             774  735     772   778        722\n",
       "Occasional          773  756     753   744        768\n",
       "Weekly              743  721     740   802        751"
      ]
     },
     "execution_count": 41,
     "metadata": {},
     "output_type": "execute_result"
    }
   ],
   "source": [
    "# Membuat matriks data\n",
    "data2 = np.array([[770, 753, 726, 685, 734],\n",
    "                [774, 735, 772, 778, 722],\n",
    "                [773, 756, 753, 744, 768],\n",
    "                [743, 721, 740, 802, 751]])\n",
    "\n",
    "# Membuat DataFrame dengan label kolom dan baris\n",
    "columns = [\"Combination\", \"Dry\", \"Normal\", \"Oily\", \"Sensitive\"]\n",
    "index = [\"Daily\", \"Monthly\", \"Occasional\", \"Weekly\"]\n",
    "\n",
    "df2 = pd.DataFrame(data2, columns=columns, index=index)\n",
    "df2"
   ]
  },
  {
   "cell_type": "code",
   "execution_count": 64,
   "metadata": {},
   "outputs": [
    {
     "name": "stdout",
     "output_type": "stream",
     "text": [
      "Chi-Square Statistic: 12.87805803945351\n",
      "p-value: 0.3779659536953773\n",
      "Degrees of Freedom: 12\n",
      "Chi-Square Tabel (df=12, alpha=0.05): 21.02606981748307\n",
      "Keputusan: Gagal Tolak H0 (Tidak ada hubungan yang signifikan)\n"
     ]
    }
   ],
   "source": [
    "# Menghitung uji chi-square\n",
    "chi2, p, dof, expected = stats.chi2_contingency(df2)\n",
    "\n",
    "# Menampilkan hasil uji chi-square\n",
    "print(f\"Chi-Square Statistic: {chi2}\")\n",
    "print(f\"p-value: {p}\")\n",
    "print(f\"Degrees of Freedom: {dof}\")\n",
    "\n",
    "# Nilai Chi-Square tabel untuk df=12 pada signifikansi 0.05\n",
    "chi_square_table_value = stats.chi2.ppf(0.95, dof)\n",
    "print(f\"Chi-Square Tabel (df={dof}, alpha=0.05): {chi_square_table_value}\")\n",
    "\n",
    "# Keputusan hipotesis\n",
    "if chi2 > chi_square_table_value:\n",
    "    print(\"Keputusan: Tolak H0 (Ada hubungan yang signifikan)\")\n",
    "else:\n",
    "    print(\"Keputusan: Gagal Tolak H0 (Tidak ada hubungan yang signifikan)\")\n"
   ]
  }
 ],
 "metadata": {
  "kernelspec": {
   "display_name": "Python 3",
   "language": "python",
   "name": "python3"
  },
  "language_info": {
   "codemirror_mode": {
    "name": "ipython",
    "version": 3
   },
   "file_extension": ".py",
   "mimetype": "text/x-python",
   "name": "python",
   "nbconvert_exporter": "python",
   "pygments_lexer": "ipython3",
   "version": "3.12.8"
  }
 },
 "nbformat": 4,
 "nbformat_minor": 2
}
